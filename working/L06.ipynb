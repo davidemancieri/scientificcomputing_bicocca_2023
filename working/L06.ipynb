{
 "cells": [
  {
   "cell_type": "markdown",
   "id": "d4f67c16-beea-41c0-9065-7f3380a4eba8",
   "metadata": {},
   "source": [
    "## Q1: Your next research project.\n",
    "\n",
    "Pick the directory of your current research project (your next paper!) and put it under version control."
   ]
  },
  {
   "cell_type": "markdown",
   "id": "4a864ad3-a508-47bb-8f77-6819b39759e9",
   "metadata": {},
   "source": [
    "## Solution:\n",
    "\n",
    "I'm mainly working on a code written by Matteo Bonetti which is already on version control on GitLab (it is set to private so I can't share it).\n",
    "\n",
    "The part of code that I've developed for that project requires some precomputed grids to work, for which I have written a separate small C++ code. I've put that under version control now, you can find it here: [https://gitlab.com/davidemancieri/ijfunctions](https://gitlab.com/davidemancieri/ijfunctions)"
   ]
  },
  {
   "cell_type": "markdown",
   "id": "18a000cc-f80a-4741-91a1-ef5ab2a5b790",
   "metadata": {},
   "source": [
    "## Q4: You're wrong\n",
    "\n",
    "Find a bug/typo in the material of this course, fix it, and send me a pull request."
   ]
  },
  {
   "cell_type": "markdown",
   "id": "ee824ed3-e9b4-406c-8229-85483e06eb83",
   "metadata": {},
   "source": [
    "## Solution:\n",
    "\n",
    "Here's the pull request: [https://github.com/dgerosa/scientificcomputing_bicocca_2023/pull/2](https://github.com/dgerosa/scientificcomputing_bicocca_2023/pull/2)"
   ]
  }
 ],
 "metadata": {
  "kernelspec": {
   "display_name": "Python 3 (ipykernel)",
   "language": "python",
   "name": "python3"
  },
  "language_info": {
   "codemirror_mode": {
    "name": "ipython",
    "version": 3
   },
   "file_extension": ".py",
   "mimetype": "text/x-python",
   "name": "python",
   "nbconvert_exporter": "python",
   "pygments_lexer": "ipython3",
   "version": "3.11.5"
  }
 },
 "nbformat": 4,
 "nbformat_minor": 5
}
