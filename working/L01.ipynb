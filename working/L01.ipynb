{
 "cells": [
  {
   "cell_type": "markdown",
   "id": "b46e5ca1-5a7b-407c-a491-9ef47c88e65a",
   "metadata": {},
   "source": [
    "## Q9: Poker odds\n",
    "\n",
    "Use the deck of cards class from the notebook we worked through class to write a _Monte Carlo_ code that plays a lot of hands of straight poker (like 100,000).  Count how many of these hands has a particular poker hand (like 3-of-a-kind).  The ratio of # of hands with 3-of-a-kind to total hands is an approximation to the odds of getting a 3-of-a-kind in poker.\n",
    "\n",
    "### Bonus: \n",
    "Just to practice modules, write that into a `.py` file to allow you to import and reuse them here."
   ]
  },
  {
   "cell_type": "code",
   "execution_count": 1,
   "id": "a2f87c2e-2126-4eb1-9243-5075b0982ac1",
   "metadata": {
    "tags": []
   },
   "outputs": [
    {
     "name": "stdout",
     "output_type": "stream",
     "text": [
      "One pair odds estimate: 42.3%\n",
      "Actual odds: 42.3%\n",
      "Two pair odds estimate: 4.86%\n",
      "Actual odds: 4.75%\n",
      "3-of-a-kind odds estimate: 2.06%\n",
      "Actual odds: 2.11%\n",
      "Full house odds estimate: 0.132%\n",
      "Actual odds: 0.144%\n",
      "4-of-a-kind odds estimate: 0.024%\n",
      "Actual odds: 0.0240%\n"
     ]
    }
   ],
   "source": [
    "import poker_odds\n",
    "\n",
    "# initialize things\n",
    "one_pairs = 0\n",
    "two_pairs = 0\n",
    "threes = 0\n",
    "fours = 0\n",
    "houses = 0\n",
    "total = 1e5\n",
    "mydeck = poker_odds.Deck()\n",
    "\n",
    "# draw many hands and check for particular poker hands\n",
    "for _ in range(int(total)):\n",
    "    mydeck.shuffle()\n",
    "    hand = mydeck.get_cards(5)\n",
    "    one_pairs += poker_odds.one_pair(hand)\n",
    "    two_pairs += poker_odds.two_pair(hand)\n",
    "    threes += poker_odds.three_of_a_kind(hand)\n",
    "    fours += poker_odds.four_of_a_kind(hand)\n",
    "    houses += poker_odds.full_house(hand)\n",
    "\n",
    "# print results\n",
    "print(f\"One pair odds estimate: {one_pairs/total*100:.3g}%\" )\n",
    "print(\"Actual odds: 42.3%\")\n",
    "print(f\"Two pair odds estimate: {two_pairs/total*100:.3g}%\" )\n",
    "print(\"Actual odds: 4.75%\")\n",
    "print(f\"3-of-a-kind odds estimate: {threes/total*100:.3g}%\" )\n",
    "print(\"Actual odds: 2.11%\")\n",
    "print(f\"Full house odds estimate: {houses/total*100:.3g}%\" )\n",
    "print(\"Actual odds: 0.144%\")\n",
    "print(f\"4-of-a-kind odds estimate: {fours/total*100:.3g}%\" )\n",
    "print(\"Actual odds: 0.0240%\")"
   ]
  },
  {
   "cell_type": "markdown",
   "id": "07fcbfba-9142-4486-9792-64223b7c5088",
   "metadata": {},
   "source": [
    "## Q10: Tic-Tac-Toe again\n",
    "\n",
    "Revisit the tic-tac-toe game you developed in the functions exercises but now write it as a class with methods to do each of the main steps.  "
   ]
  },
  {
   "cell_type": "code",
   "execution_count": 2,
   "id": "7a1e416c-0d25-4e8f-a676-03fd5f774aeb",
   "metadata": {
    "tags": []
   },
   "outputs": [
    {
     "name": "stdout",
     "output_type": "stream",
     "text": [
      "Player 1, please insert your name\n"
     ]
    },
    {
     "name": "stdin",
     "output_type": "stream",
     "text": [
      " Davide\n"
     ]
    },
    {
     "name": "stdout",
     "output_type": "stream",
     "text": [
      "Player 2, please insert your name\n"
     ]
    },
    {
     "name": "stdin",
     "output_type": "stream",
     "text": [
      " Giada\n"
     ]
    },
    {
     "name": "stdout",
     "output_type": "stream",
     "text": [
      "\n",
      "             |     |    \n",
      "        -----+-----+-----\n",
      "             |     |    \n",
      "        -----+-----+-----      123\n",
      "             |     |           456\n",
      "                               789  \n",
      "        \n"
     ]
    },
    {
     "name": "stdin",
     "output_type": "stream",
     "text": [
      "Davide, enter your move (1-9) 5\n"
     ]
    },
    {
     "name": "stdout",
     "output_type": "stream",
     "text": [
      "\n",
      "             |     |    \n",
      "        -----+-----+-----\n",
      "             |  x  |    \n",
      "        -----+-----+-----      123\n",
      "             |     |           456\n",
      "                               789  \n",
      "        \n"
     ]
    },
    {
     "name": "stdin",
     "output_type": "stream",
     "text": [
      "Giada, enter your move (1-9) 3\n"
     ]
    },
    {
     "name": "stdout",
     "output_type": "stream",
     "text": [
      "\n",
      "             |     |  o \n",
      "        -----+-----+-----\n",
      "             |  x  |    \n",
      "        -----+-----+-----      123\n",
      "             |     |           456\n",
      "                               789  \n",
      "        \n"
     ]
    },
    {
     "name": "stdin",
     "output_type": "stream",
     "text": [
      "Davide, enter your move (1-9) 8\n"
     ]
    },
    {
     "name": "stdout",
     "output_type": "stream",
     "text": [
      "\n",
      "             |     |  o \n",
      "        -----+-----+-----\n",
      "             |  x  |    \n",
      "        -----+-----+-----      123\n",
      "             |  x  |           456\n",
      "                               789  \n",
      "        \n"
     ]
    },
    {
     "name": "stdin",
     "output_type": "stream",
     "text": [
      "Giada, enter your move (1-9) 2\n"
     ]
    },
    {
     "name": "stdout",
     "output_type": "stream",
     "text": [
      "\n",
      "             |  o  |  o \n",
      "        -----+-----+-----\n",
      "             |  x  |    \n",
      "        -----+-----+-----      123\n",
      "             |  x  |           456\n",
      "                               789  \n",
      "        \n"
     ]
    },
    {
     "name": "stdin",
     "output_type": "stream",
     "text": [
      "Davide, enter your move (1-9) 1\n"
     ]
    },
    {
     "name": "stdout",
     "output_type": "stream",
     "text": [
      "\n",
      "          x  |  o  |  o \n",
      "        -----+-----+-----\n",
      "             |  x  |    \n",
      "        -----+-----+-----      123\n",
      "             |  x  |           456\n",
      "                               789  \n",
      "        \n"
     ]
    },
    {
     "name": "stdin",
     "output_type": "stream",
     "text": [
      "Giada, enter your move (1-9) 9\n"
     ]
    },
    {
     "name": "stdout",
     "output_type": "stream",
     "text": [
      "\n",
      "          x  |  o  |  o \n",
      "        -----+-----+-----\n",
      "             |  x  |    \n",
      "        -----+-----+-----      123\n",
      "             |  x  |  o        456\n",
      "                               789  \n",
      "        \n"
     ]
    },
    {
     "name": "stdin",
     "output_type": "stream",
     "text": [
      "Davide, enter your move (1-9) 6\n"
     ]
    },
    {
     "name": "stdout",
     "output_type": "stream",
     "text": [
      "\n",
      "          x  |  o  |  o \n",
      "        -----+-----+-----\n",
      "             |  x  |  x \n",
      "        -----+-----+-----      123\n",
      "             |  x  |  o        456\n",
      "                               789  \n",
      "        \n"
     ]
    },
    {
     "name": "stdin",
     "output_type": "stream",
     "text": [
      "Giada, enter your move (1-9) 4\n"
     ]
    },
    {
     "name": "stdout",
     "output_type": "stream",
     "text": [
      "\n",
      "          x  |  o  |  o \n",
      "        -----+-----+-----\n",
      "          o  |  x  |  x \n",
      "        -----+-----+-----      123\n",
      "             |  x  |  o        456\n",
      "                               789  \n",
      "        \n"
     ]
    },
    {
     "name": "stdin",
     "output_type": "stream",
     "text": [
      "Davide, enter your move (1-9) 7\n"
     ]
    },
    {
     "name": "stdout",
     "output_type": "stream",
     "text": [
      "\n",
      "          x  |  o  |  o \n",
      "        -----+-----+-----\n",
      "          o  |  x  |  x \n",
      "        -----+-----+-----      123\n",
      "          x  |  x  |  o        456\n",
      "                               789  \n",
      "        \n",
      "The game ended in a draw.\n"
     ]
    }
   ],
   "source": [
    "class tic_tac_toe:\n",
    "\n",
    "    def __init__(self):\n",
    "        \n",
    "        self.board = \"\"\"\n",
    "         {s1:^3} | {s2:^3} | {s3:^3}\n",
    "        -----+-----+-----\n",
    "         {s4:^3} | {s5:^3} | {s6:^3}\n",
    "        -----+-----+-----      123\n",
    "         {s7:^3} | {s8:^3} | {s9:^3}       456\n",
    "                               789  \n",
    "        \"\"\"\n",
    "        \n",
    "        self.play = {}\n",
    "        \n",
    "        self.player1 = \"\"\n",
    "        self.player2 = \"\"\n",
    "        \n",
    "        self.outcome = \"draw\"\n",
    "    \n",
    "    def initialize_board(self):\n",
    "        for n in range(9):\n",
    "            self.play[\"s{}\".format(n+1)] = \"\"\n",
    "\n",
    "    def show_board(self):\n",
    "        \"\"\" display the playing board.  We take a dictionary with the current state of the board\"\"\"\n",
    "        print(self.board.format(**self.play))\n",
    "\n",
    "    def get_move(self, n, xo):\n",
    "        \"\"\" ask the current player, n, to make a move -- make sure the square was not \n",
    "            already played.  xo is a string of the character (x or o) we will place in\n",
    "            the desired square \"\"\"\n",
    "        valid_move = False\n",
    "        while not valid_move:\n",
    "            idx = input(\"{}, enter your move (1-9)\".format(n))\n",
    "            if idx.isdigit() and int(idx) in range(1, 10):\n",
    "                if self.play[\"s{}\".format(idx)] == \"\":\n",
    "                    valid_move = True\n",
    "                else:\n",
    "                    print(\"invalid: {}\".format(self.play[\"s{}\".format(idx)]))\n",
    "            else:\n",
    "                print(\"invalid: must be an integer in (1-9)\")\n",
    "\n",
    "        self.play[\"s{}\".format(idx)] = xo\n",
    "    \n",
    "    def check_end_game(self):\n",
    "        \"\"\" check if the game has ended \"\"\"\n",
    "        \n",
    "        # look for all possible winning combinations for each player\n",
    "        combinations = [\n",
    "                        self.play[\"s1\"]+self.play[\"s2\"]+self.play[\"s3\"], self.play[\"s4\"]+self.play[\"s5\"]+self.play[\"s6\"], self.play[\"s7\"]+self.play[\"s8\"]+self.play[\"s9\"], # rows\n",
    "                        self.play[\"s1\"]+self.play[\"s4\"]+self.play[\"s7\"], self.play[\"s2\"]+self.play[\"s5\"]+self.play[\"s8\"], self.play[\"s3\"]+self.play[\"s6\"]+self.play[\"s9\"], # columns\n",
    "                        self.play[\"s1\"]+self.play[\"s5\"]+self.play[\"s9\"], self.play[\"s3\"]+self.play[\"s5\"]+self.play[\"s7\"] # diagonals\n",
    "                       ]\n",
    "        for combination in combinations:\n",
    "            if combination == \"xxx\":\n",
    "                self.outcome = \"player1\"\n",
    "                return True\n",
    "            elif combination == \"ooo\":\n",
    "                self.outcome = \"player2\"\n",
    "                return True\n",
    "           \n",
    "        # we check for this last in case the winning move is the last one that gets played\n",
    "        if \"\" not in self.play.values():\n",
    "            self.outcome = \"draw\"\n",
    "            return True\n",
    "\n",
    "        # if we get here, regular play resumes\n",
    "        self.outcome = \"not_done\"\n",
    "        return False\n",
    "\n",
    "    def play_game(self):\n",
    "        \"\"\" play a game of tic-tac-toe \"\"\"\n",
    "        \n",
    "        # ask for names\n",
    "        print(\"Player 1, please insert your name\")\n",
    "        self.player1 = input()\n",
    "        if self.player1 == \"\":\n",
    "            self.player1 = \"player 1\"\n",
    "        print(\"Player 2, please insert your name\")\n",
    "        self.player2 = input()\n",
    "        if self.player2 == \"\":\n",
    "            self.player2 = \"player 2\"\n",
    "\n",
    "        # set up the board to start playing\n",
    "        self.initialize_board()\n",
    "        self.show_board()\n",
    "        \n",
    "        # main loop: ask for a move and check if the game has ended\n",
    "        while \"\" in self.play.values():\n",
    "            self.get_move(self.player1,\"x\")\n",
    "            self.show_board()\n",
    "            if self.check_end_game():\n",
    "                break\n",
    "            self.get_move(self.player2,\"o\")\n",
    "            self.show_board()\n",
    "            if self.check_end_game():\n",
    "                break\n",
    "                \n",
    "        # when we get here, the game has ended. print the results        \n",
    "        if self.outcome == \"player1\":\n",
    "            print(f\"{self.player1} won!\")\n",
    "        elif self.outcome == \"player2\":\n",
    "            print(f\"{self.player2} won!\")\n",
    "        else:\n",
    "            print(\"The game ended in a draw.\")\n",
    "\n",
    "\n",
    "game = tic_tac_toe()\n",
    "game.play_game()"
   ]
  },
  {
   "cell_type": "code",
   "execution_count": null,
   "id": "95021ef4-ac81-4326-b142-cfb79b41969f",
   "metadata": {},
   "outputs": [],
   "source": []
  }
 ],
 "metadata": {
  "kernelspec": {
   "display_name": "Python 3 (ipykernel)",
   "language": "python",
   "name": "python3"
  },
  "language_info": {
   "codemirror_mode": {
    "name": "ipython",
    "version": 3
   },
   "file_extension": ".py",
   "mimetype": "text/x-python",
   "name": "python",
   "nbconvert_exporter": "python",
   "pygments_lexer": "ipython3",
   "version": "3.11.5"
  }
 },
 "nbformat": 4,
 "nbformat_minor": 5
}
